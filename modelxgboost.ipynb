{
 "cells": [
  {
   "cell_type": "code",
   "execution_count": 1,
   "metadata": {
    "collapsed": true
   },
   "outputs": [],
   "source": [
    "import pandas as pd\n",
    "import numpy as np\n",
    "import xgboost as xgb\n",
    "from xgboost.sklearn import XGBClassifier\n",
    "from sklearn import cross_validation, metrics\n",
    "from sklearn.grid_search import GridSearchCV,RandomizedSearchCV\n",
    "from sklearn.preprocessing import OneHotEncoder\n",
    "from sklearn.multiclass import OneVsRestClassifier\n",
    "from sklearn.metrics import f1_score"
   ]
  },
  {
   "cell_type": "code",
   "execution_count": 3,
   "metadata": {
    "collapsed": true
   },
   "outputs": [],
   "source": [
    "train= pd.read_csv(\"C:/Users/ssssa/Desktop/Telstra/train2.csv\")\n",
    "test= pd.read_csv(\"C:/Users/ssssa/Desktop/Telstra/test2.csv\")\n",
    "import matplotlib.pylab as plt\n",
    "%matplotlib inline"
   ]
  },
  {
   "cell_type": "code",
   "execution_count": 4,
   "metadata": {
    "collapsed": false
   },
   "outputs": [
    {
     "data": {
      "text/plain": [
       "((7381, 196), (11171, 195))"
      ]
     },
     "execution_count": 4,
     "metadata": {},
     "output_type": "execute_result"
    }
   ],
   "source": [
    "train.shape, test.shape"
   ]
  },
  {
   "cell_type": "code",
   "execution_count": 5,
   "metadata": {
    "collapsed": false
   },
   "outputs": [
    {
     "data": {
      "text/plain": [
       "0.0    4784\n",
       "1.0    1871\n",
       "2.0     726\n",
       "Name: fault_severity, dtype: int64"
      ]
     },
     "execution_count": 5,
     "metadata": {},
     "output_type": "execute_result"
    }
   ],
   "source": [
    "train['fault_severity'].value_counts()"
   ]
  },
  {
   "cell_type": "code",
   "execution_count": null,
   "metadata": {
    "collapsed": false
   },
   "outputs": [],
   "source": [
    "output= train['fault_severity']\n",
    "train.drop(['fault_severity'],axis=1,inplace=True)\n"
   ]
  },
  {
   "cell_type": "code",
   "execution_count": 14,
   "metadata": {
    "collapsed": false
   },
   "outputs": [
    {
     "data": {
      "text/plain": [
       "(7381, 1)"
      ]
     },
     "execution_count": 14,
     "metadata": {},
     "output_type": "execute_result"
    }
   ],
   "source": [
    "output=pd.DataFrame(output)\n",
    "output.shape"
   ]
  },
  {
   "cell_type": "code",
   "execution_count": 15,
   "metadata": {
    "collapsed": false
   },
   "outputs": [],
   "source": [
    "enc= OneHotEncoder()\n",
    "enc.fit(output)\n",
    "s=enc.transform(output).todense()\n",
    "out= np.asarray(s)"
   ]
  },
  {
   "cell_type": "code",
   "execution_count": 18,
   "metadata": {
    "collapsed": false
   },
   "outputs": [
    {
     "data": {
      "text/plain": [
       "(7381, 3)"
      ]
     },
     "execution_count": 18,
     "metadata": {},
     "output_type": "execute_result"
    }
   ],
   "source": [
    "out=pd.DataFrame(out)\n",
    "out.shape"
   ]
  },
  {
   "cell_type": "code",
   "execution_count": 20,
   "metadata": {
    "collapsed": true
   },
   "outputs": [],
   "source": [
    "param_grid = {\n",
    " 'n_estimators':range(100,1000,100),\n",
    "}"
   ]
  },
  {
   "cell_type": "code",
   "execution_count": 27,
   "metadata": {
    "collapsed": false
   },
   "outputs": [],
   "source": [
    "model_to_set = OneVsRestClassifier(XGBClassifier(learning_rate =0.1,\n",
    "        n_estimators=500,                                        \n",
    "        max_depth=10,\n",
    "        min_child_weight=30,\n",
    "        gamma=0,\n",
    "        subsample=0.8,\n",
    "        colsample_bytree=0.8,\n",
    "        objective= 'binary:logistic',\n",
    "        nthread=4,\n",
    "        scale_pos_weight=1,\n",
    "        seed=27))"
   ]
  },
  {
   "cell_type": "code",
   "execution_count": 32,
   "metadata": {
    "collapsed": false
   },
   "outputs": [],
   "source": [
    "parameters = {\n",
    "    \"estimator__n_estimators\": range(100,1000,100),\n",
    "}"
   ]
  },
  {
   "cell_type": "code",
   "execution_count": 33,
   "metadata": {
    "collapsed": true
   },
   "outputs": [],
   "source": [
    "model_tunning = GridSearchCV(model_to_set, param_grid=parameters,\n",
    "                             scoring='f1',n_jobs=4,iid=False)"
   ]
  },
  {
   "cell_type": "code",
   "execution_count": 34,
   "metadata": {
    "collapsed": false
   },
   "outputs": [
    {
     "data": {
      "text/plain": [
       "GridSearchCV(cv=None, error_score='raise',\n",
       "       estimator=OneVsRestClassifier(estimator=XGBClassifier(base_score=0.5, colsample_bylevel=1, colsample_bytree=0.8,\n",
       "       gamma=0, learning_rate=0.1, max_delta_step=0, max_depth=10,\n",
       "       min_child_weight=30, missing=None, n_estimators=500, nthread=4,\n",
       "       objective='binary:logistic', reg_alpha=0, reg_lambda=1,\n",
       "       scale_pos_weight=1, seed=27, silent=True, subsample=0.8),\n",
       "          n_jobs=1),\n",
       "       fit_params={}, iid=False, n_jobs=4,\n",
       "       param_grid={'estimator__n_estimators': [100, 200, 300, 400, 500, 600, 700, 800, 900]},\n",
       "       pre_dispatch='2*n_jobs', refit=True, scoring='f1', verbose=0)"
      ]
     },
     "execution_count": 34,
     "metadata": {},
     "output_type": "execute_result"
    }
   ],
   "source": [
    "model_tunning.fit(train,out)"
   ]
  },
  {
   "cell_type": "code",
   "execution_count": 35,
   "metadata": {
    "collapsed": false
   },
   "outputs": [
    {
     "data": {
      "text/plain": [
       "[mean: 0.70652, std: 0.01196, params: {'estimator__n_estimators': 100},\n",
       " mean: 0.70851, std: 0.01432, params: {'estimator__n_estimators': 200},\n",
       " mean: 0.70917, std: 0.01325, params: {'estimator__n_estimators': 300},\n",
       " mean: 0.70490, std: 0.01529, params: {'estimator__n_estimators': 400},\n",
       " mean: 0.70361, std: 0.01266, params: {'estimator__n_estimators': 500},\n",
       " mean: 0.70356, std: 0.01431, params: {'estimator__n_estimators': 600},\n",
       " mean: 0.70380, std: 0.01345, params: {'estimator__n_estimators': 700},\n",
       " mean: 0.70259, std: 0.01272, params: {'estimator__n_estimators': 800},\n",
       " mean: 0.70130, std: 0.01205, params: {'estimator__n_estimators': 900}]"
      ]
     },
     "execution_count": 35,
     "metadata": {},
     "output_type": "execute_result"
    }
   ],
   "source": [
    "model_tunning.grid_scores_"
   ]
  },
  {
   "cell_type": "code",
   "execution_count": 36,
   "metadata": {
    "collapsed": false
   },
   "outputs": [
    {
     "data": {
      "text/plain": [
       "0.70917005813050993"
      ]
     },
     "execution_count": 36,
     "metadata": {},
     "output_type": "execute_result"
    }
   ],
   "source": [
    "model_tunning.best_score_"
   ]
  },
  {
   "cell_type": "code",
   "execution_count": 37,
   "metadata": {
    "collapsed": false
   },
   "outputs": [
    {
     "data": {
      "text/plain": [
       "{'estimator__n_estimators': 300}"
      ]
     },
     "execution_count": 37,
     "metadata": {},
     "output_type": "execute_result"
    }
   ],
   "source": [
    "model_tunning.best_params_"
   ]
  },
  {
   "cell_type": "code",
   "execution_count": 45,
   "metadata": {
    "collapsed": true
   },
   "outputs": [],
   "source": [
    "parameters = {\n",
    "    \"estimator__n_estimators\": range(100,400,20),\n",
    "}\n"
   ]
  },
  {
   "cell_type": "code",
   "execution_count": 46,
   "metadata": {
    "collapsed": true
   },
   "outputs": [],
   "source": [
    "model_to_set = OneVsRestClassifier(XGBClassifier(learning_rate =0.1,\n",
    "        n_estimators=500,                                        \n",
    "        max_depth=13,\n",
    "        min_child_weight=10,\n",
    "        gamma=0,\n",
    "        subsample=0.8,\n",
    "        colsample_bytree=0.8,\n",
    "        objective= 'binary:logistic',\n",
    "        nthread=4,\n",
    "        scale_pos_weight=1,\n",
    "        seed=27))"
   ]
  },
  {
   "cell_type": "code",
   "execution_count": 47,
   "metadata": {
    "collapsed": true
   },
   "outputs": [],
   "source": [
    "model_tunning = GridSearchCV(model_to_set, param_grid=parameters,\n",
    "                             scoring='f1',n_jobs=4,iid=False)"
   ]
  },
  {
   "cell_type": "code",
   "execution_count": 48,
   "metadata": {
    "collapsed": false
   },
   "outputs": [
    {
     "data": {
      "text/plain": [
       "GridSearchCV(cv=None, error_score='raise',\n",
       "       estimator=OneVsRestClassifier(estimator=XGBClassifier(base_score=0.5, colsample_bylevel=1, colsample_bytree=0.8,\n",
       "       gamma=0, learning_rate=0.1, max_delta_step=0, max_depth=13,\n",
       "       min_child_weight=10, missing=None, n_estimators=500, nthread=4,\n",
       "       objective='binary:logistic', reg_alpha=0, reg_lambda=1,\n",
       "       scale_pos_weight=1, seed=27, silent=True, subsample=0.8),\n",
       "          n_jobs=1),\n",
       "       fit_params={}, iid=False, n_jobs=4,\n",
       "       param_grid={'estimator__n_estimators': [100, 120, 140, 160, 180, 200, 220, 240, 260, 280, 300, 320, 340, 360, 380]},\n",
       "       pre_dispatch='2*n_jobs', refit=True, scoring='f1', verbose=0)"
      ]
     },
     "execution_count": 48,
     "metadata": {},
     "output_type": "execute_result"
    }
   ],
   "source": [
    "model_tunning.fit(train,out)"
   ]
  },
  {
   "cell_type": "code",
   "execution_count": 49,
   "metadata": {
    "collapsed": false
   },
   "outputs": [
    {
     "data": {
      "text/plain": [
       "[mean: 0.72836, std: 0.00497, params: {'estimator__n_estimators': 100},\n",
       " mean: 0.72893, std: 0.00674, params: {'estimator__n_estimators': 120},\n",
       " mean: 0.73104, std: 0.00691, params: {'estimator__n_estimators': 140},\n",
       " mean: 0.73013, std: 0.00406, params: {'estimator__n_estimators': 160},\n",
       " mean: 0.72986, std: 0.00337, params: {'estimator__n_estimators': 180},\n",
       " mean: 0.72843, std: 0.00402, params: {'estimator__n_estimators': 200},\n",
       " mean: 0.72731, std: 0.00362, params: {'estimator__n_estimators': 220},\n",
       " mean: 0.72678, std: 0.00263, params: {'estimator__n_estimators': 240},\n",
       " mean: 0.72665, std: 0.00324, params: {'estimator__n_estimators': 260},\n",
       " mean: 0.72529, std: 0.00333, params: {'estimator__n_estimators': 280},\n",
       " mean: 0.72596, std: 0.00220, params: {'estimator__n_estimators': 300},\n",
       " mean: 0.72621, std: 0.00057, params: {'estimator__n_estimators': 320},\n",
       " mean: 0.72582, std: 0.00066, params: {'estimator__n_estimators': 340},\n",
       " mean: 0.72431, std: 0.00032, params: {'estimator__n_estimators': 360},\n",
       " mean: 0.72331, std: 0.00196, params: {'estimator__n_estimators': 380}]"
      ]
     },
     "execution_count": 49,
     "metadata": {},
     "output_type": "execute_result"
    }
   ],
   "source": [
    "model_tunning.grid_scores_"
   ]
  },
  {
   "cell_type": "code",
   "execution_count": 50,
   "metadata": {
    "collapsed": false
   },
   "outputs": [
    {
     "data": {
      "text/plain": [
       "0.73103714962817323"
      ]
     },
     "execution_count": 50,
     "metadata": {},
     "output_type": "execute_result"
    }
   ],
   "source": [
    "model_tunning.best_score_"
   ]
  },
  {
   "cell_type": "code",
   "execution_count": 51,
   "metadata": {
    "collapsed": false
   },
   "outputs": [
    {
     "data": {
      "text/plain": [
       "{'estimator__n_estimators': 140}"
      ]
     },
     "execution_count": 51,
     "metadata": {},
     "output_type": "execute_result"
    }
   ],
   "source": [
    "model_tunning.best_params_"
   ]
  },
  {
   "cell_type": "code",
   "execution_count": 38,
   "metadata": {
    "collapsed": true
   },
   "outputs": [],
   "source": [
    "parameters = {\n",
    "    'estimator__max_depth':range(9,20,2),\n",
    "    'estimator__min_child_weight':range(10,50,10)\n",
    "}"
   ]
  },
  {
   "cell_type": "code",
   "execution_count": 39,
   "metadata": {
    "collapsed": true
   },
   "outputs": [],
   "source": [
    "model_to_set = OneVsRestClassifier(XGBClassifier(learning_rate =0.1,\n",
    "        n_estimators=300,                                        \n",
    "        max_depth=10,\n",
    "        min_child_weight=30,\n",
    "        gamma=0,\n",
    "        subsample=0.8,\n",
    "        colsample_bytree=0.8,\n",
    "        objective= 'binary:logistic',\n",
    "        nthread=4,\n",
    "        scale_pos_weight=1,\n",
    "        seed=27))"
   ]
  },
  {
   "cell_type": "code",
   "execution_count": 40,
   "metadata": {
    "collapsed": true
   },
   "outputs": [],
   "source": [
    "model_tunning = GridSearchCV(model_to_set, param_grid=parameters,\n",
    "                             scoring='f1',n_jobs=4,iid=False)\n"
   ]
  },
  {
   "cell_type": "code",
   "execution_count": 41,
   "metadata": {
    "collapsed": false
   },
   "outputs": [
    {
     "data": {
      "text/plain": [
       "GridSearchCV(cv=None, error_score='raise',\n",
       "       estimator=OneVsRestClassifier(estimator=XGBClassifier(base_score=0.5, colsample_bylevel=1, colsample_bytree=0.8,\n",
       "       gamma=0, learning_rate=0.1, max_delta_step=0, max_depth=10,\n",
       "       min_child_weight=30, missing=None, n_estimators=300, nthread=4,\n",
       "       objective='binary:logistic', reg_alpha=0, reg_lambda=1,\n",
       "       scale_pos_weight=1, seed=27, silent=True, subsample=0.8),\n",
       "          n_jobs=1),\n",
       "       fit_params={}, iid=False, n_jobs=4,\n",
       "       param_grid={'estimator__min_child_weight': [10, 20, 30, 40], 'estimator__max_depth': [9, 11, 13, 15, 17, 19]},\n",
       "       pre_dispatch='2*n_jobs', refit=True, scoring='f1', verbose=0)"
      ]
     },
     "execution_count": 41,
     "metadata": {},
     "output_type": "execute_result"
    }
   ],
   "source": [
    "model_tunning.fit(train,out)"
   ]
  },
  {
   "cell_type": "code",
   "execution_count": 42,
   "metadata": {
    "collapsed": false
   },
   "outputs": [
    {
     "data": {
      "text/plain": [
       "[mean: 0.72406, std: 0.00710, params: {'estimator__min_child_weight': 10, 'estimator__max_depth': 9},\n",
       " mean: 0.71361, std: 0.00947, params: {'estimator__min_child_weight': 20, 'estimator__max_depth': 9},\n",
       " mean: 0.70724, std: 0.01463, params: {'estimator__min_child_weight': 30, 'estimator__max_depth': 9},\n",
       " mean: 0.70401, std: 0.01551, params: {'estimator__min_child_weight': 40, 'estimator__max_depth': 9},\n",
       " mean: 0.72315, std: 0.00415, params: {'estimator__min_child_weight': 10, 'estimator__max_depth': 11},\n",
       " mean: 0.71589, std: 0.00721, params: {'estimator__min_child_weight': 20, 'estimator__max_depth': 11},\n",
       " mean: 0.70737, std: 0.01353, params: {'estimator__min_child_weight': 30, 'estimator__max_depth': 11},\n",
       " mean: 0.70620, std: 0.01690, params: {'estimator__min_child_weight': 40, 'estimator__max_depth': 11},\n",
       " mean: 0.72596, std: 0.00220, params: {'estimator__min_child_weight': 10, 'estimator__max_depth': 13},\n",
       " mean: 0.71648, std: 0.00670, params: {'estimator__min_child_weight': 20, 'estimator__max_depth': 13},\n",
       " mean: 0.70649, std: 0.01303, params: {'estimator__min_child_weight': 30, 'estimator__max_depth': 13},\n",
       " mean: 0.70393, std: 0.01573, params: {'estimator__min_child_weight': 40, 'estimator__max_depth': 13},\n",
       " mean: 0.72164, std: 0.00232, params: {'estimator__min_child_weight': 10, 'estimator__max_depth': 15},\n",
       " mean: 0.71710, std: 0.00506, params: {'estimator__min_child_weight': 20, 'estimator__max_depth': 15},\n",
       " mean: 0.70813, std: 0.01413, params: {'estimator__min_child_weight': 30, 'estimator__max_depth': 15},\n",
       " mean: 0.70393, std: 0.01573, params: {'estimator__min_child_weight': 40, 'estimator__max_depth': 15},\n",
       " mean: 0.72310, std: 0.00432, params: {'estimator__min_child_weight': 10, 'estimator__max_depth': 17},\n",
       " mean: 0.71725, std: 0.00807, params: {'estimator__min_child_weight': 20, 'estimator__max_depth': 17},\n",
       " mean: 0.70813, std: 0.01413, params: {'estimator__min_child_weight': 30, 'estimator__max_depth': 17},\n",
       " mean: 0.70393, std: 0.01573, params: {'estimator__min_child_weight': 40, 'estimator__max_depth': 17},\n",
       " mean: 0.72541, std: 0.00562, params: {'estimator__min_child_weight': 10, 'estimator__max_depth': 19},\n",
       " mean: 0.71729, std: 0.00811, params: {'estimator__min_child_weight': 20, 'estimator__max_depth': 19},\n",
       " mean: 0.70813, std: 0.01413, params: {'estimator__min_child_weight': 30, 'estimator__max_depth': 19},\n",
       " mean: 0.70393, std: 0.01573, params: {'estimator__min_child_weight': 40, 'estimator__max_depth': 19}]"
      ]
     },
     "execution_count": 42,
     "metadata": {},
     "output_type": "execute_result"
    }
   ],
   "source": [
    "model_tunning.grid_scores_"
   ]
  },
  {
   "cell_type": "code",
   "execution_count": 43,
   "metadata": {
    "collapsed": false
   },
   "outputs": [
    {
     "data": {
      "text/plain": [
       "0.72596020705731445"
      ]
     },
     "execution_count": 43,
     "metadata": {},
     "output_type": "execute_result"
    }
   ],
   "source": [
    "model_tunning.best_score_"
   ]
  },
  {
   "cell_type": "code",
   "execution_count": 44,
   "metadata": {
    "collapsed": false
   },
   "outputs": [
    {
     "data": {
      "text/plain": [
       "{'estimator__max_depth': 13, 'estimator__min_child_weight': 10}"
      ]
     },
     "execution_count": 44,
     "metadata": {},
     "output_type": "execute_result"
    }
   ],
   "source": [
    "model_tunning.best_params_"
   ]
  },
  {
   "cell_type": "code",
   "execution_count": 52,
   "metadata": {
    "collapsed": true
   },
   "outputs": [],
   "source": [
    "parameters = {\n",
    "    'estimator__max_depth':range(5,12,2),\n",
    "    'estimator__min_child_weight':range(2,10)\n",
    "}"
   ]
  },
  {
   "cell_type": "code",
   "execution_count": 53,
   "metadata": {
    "collapsed": true
   },
   "outputs": [],
   "source": [
    "model_to_set = OneVsRestClassifier(XGBClassifier(learning_rate =0.1,\n",
    "        n_estimators=140,                                        \n",
    "        max_depth=10,\n",
    "        min_child_weight=30,\n",
    "        gamma=0,\n",
    "        subsample=0.8,\n",
    "        colsample_bytree=0.8,\n",
    "        objective= 'binary:logistic',\n",
    "        nthread=4,\n",
    "        scale_pos_weight=1,\n",
    "        seed=27))"
   ]
  },
  {
   "cell_type": "code",
   "execution_count": 54,
   "metadata": {
    "collapsed": true
   },
   "outputs": [],
   "source": [
    "model_tunning = GridSearchCV(model_to_set, param_grid=parameters,\n",
    "                             scoring='f1',n_jobs=4,iid=False)"
   ]
  },
  {
   "cell_type": "code",
   "execution_count": 55,
   "metadata": {
    "collapsed": false
   },
   "outputs": [
    {
     "data": {
      "text/plain": [
       "GridSearchCV(cv=None, error_score='raise',\n",
       "       estimator=OneVsRestClassifier(estimator=XGBClassifier(base_score=0.5, colsample_bylevel=1, colsample_bytree=0.8,\n",
       "       gamma=0, learning_rate=0.1, max_delta_step=0, max_depth=10,\n",
       "       min_child_weight=30, missing=None, n_estimators=140, nthread=4,\n",
       "       objective='binary:logistic', reg_alpha=0, reg_lambda=1,\n",
       "       scale_pos_weight=1, seed=27, silent=True, subsample=0.8),\n",
       "          n_jobs=1),\n",
       "       fit_params={}, iid=False, n_jobs=4,\n",
       "       param_grid={'estimator__min_child_weight': [2, 3, 4, 5, 6, 7, 8, 9], 'estimator__max_depth': [5, 7, 9, 11]},\n",
       "       pre_dispatch='2*n_jobs', refit=True, scoring='f1', verbose=0)"
      ]
     },
     "execution_count": 55,
     "metadata": {},
     "output_type": "execute_result"
    }
   ],
   "source": [
    "model_tunning.fit(train,out)"
   ]
  },
  {
   "cell_type": "code",
   "execution_count": 56,
   "metadata": {
    "collapsed": false
   },
   "outputs": [
    {
     "data": {
      "text/plain": [
       "[mean: 0.74089, std: 0.00536, params: {'estimator__min_child_weight': 2, 'estimator__max_depth': 5},\n",
       " mean: 0.73870, std: 0.00475, params: {'estimator__min_child_weight': 3, 'estimator__max_depth': 5},\n",
       " mean: 0.73810, std: 0.00609, params: {'estimator__min_child_weight': 4, 'estimator__max_depth': 5},\n",
       " mean: 0.73857, std: 0.00461, params: {'estimator__min_child_weight': 5, 'estimator__max_depth': 5},\n",
       " mean: 0.73647, std: 0.00279, params: {'estimator__min_child_weight': 6, 'estimator__max_depth': 5},\n",
       " mean: 0.73426, std: 0.00384, params: {'estimator__min_child_weight': 7, 'estimator__max_depth': 5},\n",
       " mean: 0.72975, std: 0.00556, params: {'estimator__min_child_weight': 8, 'estimator__max_depth': 5},\n",
       " mean: 0.72965, std: 0.00591, params: {'estimator__min_child_weight': 9, 'estimator__max_depth': 5},\n",
       " mean: 0.74355, std: 0.00424, params: {'estimator__min_child_weight': 2, 'estimator__max_depth': 7},\n",
       " mean: 0.74289, std: 0.00676, params: {'estimator__min_child_weight': 3, 'estimator__max_depth': 7},\n",
       " mean: 0.73877, std: 0.00633, params: {'estimator__min_child_weight': 4, 'estimator__max_depth': 7},\n",
       " mean: 0.73856, std: 0.00475, params: {'estimator__min_child_weight': 5, 'estimator__max_depth': 7},\n",
       " mean: 0.73793, std: 0.00351, params: {'estimator__min_child_weight': 6, 'estimator__max_depth': 7},\n",
       " mean: 0.73443, std: 0.00636, params: {'estimator__min_child_weight': 7, 'estimator__max_depth': 7},\n",
       " mean: 0.73073, std: 0.00818, params: {'estimator__min_child_weight': 8, 'estimator__max_depth': 7},\n",
       " mean: 0.73123, std: 0.00626, params: {'estimator__min_child_weight': 9, 'estimator__max_depth': 7},\n",
       " mean: 0.74165, std: 0.00471, params: {'estimator__min_child_weight': 2, 'estimator__max_depth': 9},\n",
       " mean: 0.74062, std: 0.00318, params: {'estimator__min_child_weight': 3, 'estimator__max_depth': 9},\n",
       " mean: 0.73617, std: 0.00733, params: {'estimator__min_child_weight': 4, 'estimator__max_depth': 9},\n",
       " mean: 0.73602, std: 0.00595, params: {'estimator__min_child_weight': 5, 'estimator__max_depth': 9},\n",
       " mean: 0.73513, std: 0.00630, params: {'estimator__min_child_weight': 6, 'estimator__max_depth': 9},\n",
       " mean: 0.73155, std: 0.00690, params: {'estimator__min_child_weight': 7, 'estimator__max_depth': 9},\n",
       " mean: 0.73366, std: 0.00804, params: {'estimator__min_child_weight': 8, 'estimator__max_depth': 9},\n",
       " mean: 0.72935, std: 0.00475, params: {'estimator__min_child_weight': 9, 'estimator__max_depth': 9},\n",
       " mean: 0.73914, std: 0.00539, params: {'estimator__min_child_weight': 2, 'estimator__max_depth': 11},\n",
       " mean: 0.73961, std: 0.00566, params: {'estimator__min_child_weight': 3, 'estimator__max_depth': 11},\n",
       " mean: 0.73709, std: 0.00482, params: {'estimator__min_child_weight': 4, 'estimator__max_depth': 11},\n",
       " mean: 0.73622, std: 0.00572, params: {'estimator__min_child_weight': 5, 'estimator__max_depth': 11},\n",
       " mean: 0.73367, std: 0.00185, params: {'estimator__min_child_weight': 6, 'estimator__max_depth': 11},\n",
       " mean: 0.73319, std: 0.00322, params: {'estimator__min_child_weight': 7, 'estimator__max_depth': 11},\n",
       " mean: 0.72924, std: 0.00923, params: {'estimator__min_child_weight': 8, 'estimator__max_depth': 11},\n",
       " mean: 0.72760, std: 0.00857, params: {'estimator__min_child_weight': 9, 'estimator__max_depth': 11}]"
      ]
     },
     "execution_count": 56,
     "metadata": {},
     "output_type": "execute_result"
    }
   ],
   "source": [
    "model_tunning.grid_scores_"
   ]
  },
  {
   "cell_type": "code",
   "execution_count": 57,
   "metadata": {
    "collapsed": false
   },
   "outputs": [
    {
     "data": {
      "text/plain": [
       "{'estimator__max_depth': 7, 'estimator__min_child_weight': 2}"
      ]
     },
     "execution_count": 57,
     "metadata": {},
     "output_type": "execute_result"
    }
   ],
   "source": [
    "model_tunning.best_params_"
   ]
  },
  {
   "cell_type": "code",
   "execution_count": 58,
   "metadata": {
    "collapsed": false
   },
   "outputs": [
    {
     "data": {
      "text/plain": [
       "0.74355148140864602"
      ]
     },
     "execution_count": 58,
     "metadata": {},
     "output_type": "execute_result"
    }
   ],
   "source": [
    "model_tunning.best_score_"
   ]
  },
  {
   "cell_type": "code",
   "execution_count": 113,
   "metadata": {
    "collapsed": true
   },
   "outputs": [],
   "source": [
    "model_to_set = OneVsRestClassifier(XGBClassifier(learning_rate =0.1,\n",
    "        n_estimators=140,                                        \n",
    "        max_depth=7,\n",
    "        min_child_weight=2,\n",
    "        gamma=0,\n",
    "        subsample=0.9,\n",
    "        colsample_bytree=0.8,\n",
    "        objective= 'binary:logistic',\n",
    "        nthread=4,\n",
    "        scale_pos_weight=1,\n",
    "        seed=27))"
   ]
  },
  {
   "cell_type": "code",
   "execution_count": 114,
   "metadata": {
    "collapsed": false
   },
   "outputs": [
    {
     "data": {
      "text/plain": [
       "OneVsRestClassifier(estimator=XGBClassifier(base_score=0.5, colsample_bylevel=1, colsample_bytree=0.8,\n",
       "       gamma=0, learning_rate=0.1, max_delta_step=0, max_depth=7,\n",
       "       min_child_weight=2, missing=None, n_estimators=140, nthread=4,\n",
       "       objective='binary:logistic', reg_alpha=0, reg_lambda=1,\n",
       "       scale_pos_weight=1, seed=27, silent=True, subsample=0.9),\n",
       "          n_jobs=1)"
      ]
     },
     "execution_count": 114,
     "metadata": {},
     "output_type": "execute_result"
    }
   ],
   "source": [
    "model_to_set.fit(train,out)"
   ]
  },
  {
   "cell_type": "code",
   "execution_count": 115,
   "metadata": {
    "collapsed": true
   },
   "outputs": [],
   "source": [
    "b= model_to_set.predict(test)"
   ]
  },
  {
   "cell_type": "code",
   "execution_count": 116,
   "metadata": {
    "collapsed": true
   },
   "outputs": [],
   "source": [
    "b= pd.DataFrame(b)"
   ]
  },
  {
   "cell_type": "code",
   "execution_count": 118,
   "metadata": {
    "collapsed": true
   },
   "outputs": [],
   "source": [
    "b.to_csv(\"C:/Users/ssssa/Desktop/submission_XGboost.csv\")"
   ]
  },
  {
   "cell_type": "code",
   "execution_count": null,
   "metadata": {
    "collapsed": true
   },
   "outputs": [],
   "source": []
  }
 ],
 "metadata": {
  "kernelspec": {
   "display_name": "Python 2",
   "language": "python",
   "name": "python2"
  },
  "language_info": {
   "codemirror_mode": {
    "name": "ipython",
    "version": 2
   },
   "file_extension": ".py",
   "mimetype": "text/x-python",
   "name": "python",
   "nbconvert_exporter": "python",
   "pygments_lexer": "ipython2",
   "version": "2.7.12"
  }
 },
 "nbformat": 4,
 "nbformat_minor": 0
}
